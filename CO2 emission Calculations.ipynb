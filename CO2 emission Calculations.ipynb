{
 "cells": [
  {
   "cell_type": "code",
   "execution_count": 1,
   "metadata": {},
   "outputs": [],
   "source": [
    "import pandas as pd\n",
    "import matplotlib.pyplot as plt\n",
    "import numpy as np\n",
    "import seaborn as sns"
   ]
  },
  {
   "cell_type": "code",
   "execution_count": 3,
   "metadata": {},
   "outputs": [
    {
     "data": {
      "text/plain": [
       "1350.0"
      ]
     },
     "execution_count": 3,
     "metadata": {},
     "output_type": "execute_result"
    }
   ],
   "source": [
    "# calculation of kiloWatt hour for electric appliances (formula)\n",
    "def elecapp(pwr):\n",
    "    return (10*2*pwr)/1000\n",
    "\n",
    "\n",
    "elecapp(450)"
   ]
  },
  {
   "cell_type": "code",
   "execution_count": 8,
   "metadata": {},
   "outputs": [
    {
     "data": {
      "text/plain": [
       "1274.3999999999999"
      ]
     },
     "execution_count": 8,
     "metadata": {},
     "output_type": "execute_result"
    }
   ],
   "source": [
    "##CO2 emission calculation for electrical appliances\n",
    "61def coemit(pwr,e):\n",
    "    return elecapp(pwr)*e\n",
    "\n",
    "\n",
    "coemit(450,0.944)\n",
    "\n",
    "\n"
   ]
  },
  {
   "cell_type": "code",
   "execution_count": 13,
   "metadata": {},
   "outputs": [],
   "source": [
    "pwr_rating = [61, 87, 50, 45, 130, 60, 65, 65]\n",
    "e_list =[0.944, 0.788, 0.085, 0.026, 0.044]"
   ]
  },
  {
   "cell_type": "code",
   "execution_count": 18,
   "metadata": {},
   "outputs": [],
   "source": [
    "lis =[]\n",
    "lis2 = []\n",
    "for i in pwr_rating:\n",
    "    for j in e_list:\n",
    "        lis.append({'pwr':i, 'e':j, 'coemit':coemit(i,j)})\n",
    "        lis2.append(coemit(i,j))"
   ]
  },
  {
   "cell_type": "code",
   "execution_count": 15,
   "metadata": {},
   "outputs": [
    {
     "data": {
      "text/plain": [
       "[{'pwr': 61, 'e': 0.944, 'coemit': 172.75199999999998},\n",
       " {'pwr': 61, 'e': 0.788, 'coemit': 144.204},\n",
       " {'pwr': 61, 'e': 0.085, 'coemit': 15.555000000000001},\n",
       " {'pwr': 61, 'e': 0.026, 'coemit': 4.758},\n",
       " {'pwr': 61, 'e': 0.044, 'coemit': 8.052},\n",
       " {'pwr': 87, 'e': 0.944, 'coemit': 246.384},\n",
       " {'pwr': 87, 'e': 0.788, 'coemit': 205.668},\n",
       " {'pwr': 87, 'e': 0.085, 'coemit': 22.185000000000002},\n",
       " {'pwr': 87, 'e': 0.026, 'coemit': 6.786},\n",
       " {'pwr': 87, 'e': 0.044, 'coemit': 11.484},\n",
       " {'pwr': 50, 'e': 0.944, 'coemit': 141.6},\n",
       " {'pwr': 50, 'e': 0.788, 'coemit': 118.2},\n",
       " {'pwr': 50, 'e': 0.085, 'coemit': 12.750000000000002},\n",
       " {'pwr': 50, 'e': 0.026, 'coemit': 3.9},\n",
       " {'pwr': 50, 'e': 0.044, 'coemit': 6.6},\n",
       " {'pwr': 45, 'e': 0.944, 'coemit': 127.44},\n",
       " {'pwr': 45, 'e': 0.788, 'coemit': 106.38000000000001},\n",
       " {'pwr': 45, 'e': 0.085, 'coemit': 11.475000000000001},\n",
       " {'pwr': 45, 'e': 0.026, 'coemit': 3.51},\n",
       " {'pwr': 45, 'e': 0.044, 'coemit': 5.9399999999999995},\n",
       " {'pwr': 130, 'e': 0.944, 'coemit': 368.15999999999997},\n",
       " {'pwr': 130, 'e': 0.788, 'coemit': 307.32},\n",
       " {'pwr': 130, 'e': 0.085, 'coemit': 33.150000000000006},\n",
       " {'pwr': 130, 'e': 0.026, 'coemit': 10.139999999999999},\n",
       " {'pwr': 130, 'e': 0.044, 'coemit': 17.16},\n",
       " {'pwr': 60, 'e': 0.944, 'coemit': 169.92},\n",
       " {'pwr': 60, 'e': 0.788, 'coemit': 141.84},\n",
       " {'pwr': 60, 'e': 0.085, 'coemit': 15.3},\n",
       " {'pwr': 60, 'e': 0.026, 'coemit': 4.68},\n",
       " {'pwr': 60, 'e': 0.044, 'coemit': 7.92},\n",
       " {'pwr': 65, 'e': 0.944, 'coemit': 184.07999999999998},\n",
       " {'pwr': 65, 'e': 0.788, 'coemit': 153.66},\n",
       " {'pwr': 65, 'e': 0.085, 'coemit': 16.575000000000003},\n",
       " {'pwr': 65, 'e': 0.026, 'coemit': 5.069999999999999},\n",
       " {'pwr': 65, 'e': 0.044, 'coemit': 8.58},\n",
       " {'pwr': 65, 'e': 0.944, 'coemit': 184.07999999999998},\n",
       " {'pwr': 65, 'e': 0.788, 'coemit': 153.66},\n",
       " {'pwr': 65, 'e': 0.085, 'coemit': 16.575000000000003},\n",
       " {'pwr': 65, 'e': 0.026, 'coemit': 5.069999999999999},\n",
       " {'pwr': 65, 'e': 0.044, 'coemit': 8.58}]"
      ]
     },
     "execution_count": 15,
     "metadata": {},
     "output_type": "execute_result"
    }
   ],
   "source": [
    "lis"
   ]
  },
  {
   "cell_type": "code",
   "execution_count": 19,
   "metadata": {},
   "outputs": [
    {
     "data": {
      "text/plain": [
       "[172.75199999999998,\n",
       " 144.204,\n",
       " 15.555000000000001,\n",
       " 4.758,\n",
       " 8.052,\n",
       " 246.384,\n",
       " 205.668,\n",
       " 22.185000000000002,\n",
       " 6.786,\n",
       " 11.484,\n",
       " 141.6,\n",
       " 118.2,\n",
       " 12.750000000000002,\n",
       " 3.9,\n",
       " 6.6,\n",
       " 127.44,\n",
       " 106.38000000000001,\n",
       " 11.475000000000001,\n",
       " 3.51,\n",
       " 5.9399999999999995,\n",
       " 368.15999999999997,\n",
       " 307.32,\n",
       " 33.150000000000006,\n",
       " 10.139999999999999,\n",
       " 17.16,\n",
       " 169.92,\n",
       " 141.84,\n",
       " 15.3,\n",
       " 4.68,\n",
       " 7.92,\n",
       " 184.07999999999998,\n",
       " 153.66,\n",
       " 16.575000000000003,\n",
       " 5.069999999999999,\n",
       " 8.58,\n",
       " 184.07999999999998,\n",
       " 153.66,\n",
       " 16.575000000000003,\n",
       " 5.069999999999999,\n",
       " 8.58]"
      ]
     },
     "execution_count": 19,
     "metadata": {},
     "output_type": "execute_result"
    }
   ],
   "source": [
    "lis2 ## calculation of CO2 emission for different laptops"
   ]
  },
  {
   "cell_type": "code",
   "execution_count": null,
   "metadata": {},
   "outputs": [],
   "source": [
    "\n"
   ]
  }
 ],
 "metadata": {
  "kernelspec": {
   "display_name": "Python 3",
   "language": "python",
   "name": "python3"
  },
  "language_info": {
   "codemirror_mode": {
    "name": "ipython",
    "version": 3
   },
   "file_extension": ".py",
   "mimetype": "text/x-python",
   "name": "python",
   "nbconvert_exporter": "python",
   "pygments_lexer": "ipython3",
   "version": "3.7.4"
  }
 },
 "nbformat": 4,
 "nbformat_minor": 2
}
